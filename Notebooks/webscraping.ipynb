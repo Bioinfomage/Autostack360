{
 "cells": [
  {
   "cell_type": "code",
   "execution_count": 17,
   "id": "fd5e8251-28d2-42d1-bfef-3701b6462fea",
   "metadata": {},
   "outputs": [],
   "source": [
    "#Loading libraries \n",
    "import os                  # For creating directories and handling file paths\n",
    "import re                  # For extracting year using regular expressions\n",
    "import requests            # For sending HTTP requests to download the CSV\n",
    "from bs4 import BeautifulSoup  # For parsing HTML to scrape links\n",
    "from io import BytesIO\n",
    "import zipfile  # Needed to work with ZIP files\n",
    "from urllib.parse import urljoin\n"
   ]
  },
  {
   "cell_type": "code",
   "execution_count": 1,
   "id": "821827e5-c6b8-460d-a579-c6c29b47a31b",
   "metadata": {},
   "outputs": [
    {
     "name": "stdin",
     "output_type": "stream",
     "text": [
      "Enter the year of the Stack Overflow survey you want to download (e.g., 2024):  2024\n"
     ]
    }
   ],
   "source": [
    "# Step 1: User input\n",
    "year = input(\"Enter the year of the Stack Overflow survey you want to download (e.g., 2024): \").strip()\n",
    "base_url = \"https://survey.stackoverflow.co/\"\n",
    "headers = {\"User-Agent\": \"Mozilla/5.0\"}"
   ]
  },
  {
   "cell_type": "code",
   "execution_count": 4,
   "id": "d1eb5134-cb6a-4762-affb-0273ce1cc203",
   "metadata": {},
   "outputs": [],
   "source": [
    "# Step 2: Scrape main page for ZIP file\n",
    "try:\n",
    "    res = requests.get(base_url, headers=headers)\n",
    "    res.raise_for_status()\n",
    "    soup = BeautifulSoup(res.text, \"html.parser\")\n",
    "except requests.exceptions.RequestException as e:\n",
    "    print(f\" Could not load the base page: {e}\")\n",
    "    exit()\n"
   ]
  },
  {
   "cell_type": "code",
   "execution_count": 18,
   "id": "f49f8ba1-1d6b-4bcd-b7d4-b1f3a1b2ec7f",
   "metadata": {},
   "outputs": [
    {
     "name": "stdout",
     "output_type": "stream",
     "text": [
      "/\n",
      "https://trends.stackoverflow.co/\n",
      "https://survey.stackoverflow.co/\n",
      "https://survey.stackoverflow.co/2024\n",
      "./datasets/stack-overflow-developer-survey-2024.zip\n",
      " Found ZIP file: https://survey.stackoverflow.co/datasets/stack-overflow-developer-survey-2024.zip\n"
     ]
    }
   ],
   "source": [
    "# Step 3: Find the ZIP file link\n",
    "zip_url = None\n",
    "for link in soup.find_all(\"a\", href=True):\n",
    "    href = link[\"href\"]\n",
    "    print(href)\n",
    "    if href.endswith(\".zip\") and year in href:\n",
    "        zip_url = href if href.startswith(\"http\") else urljoin(base_url, href)\n",
    "        print(f\" Found ZIP file: {zip_url}\")\n",
    "        break\n",
    "\n",
    "if not zip_url:\n",
    "    print(f\"No ZIP file found for year {year}.\")\n",
    "    exit()\n"
   ]
  },
  {
   "cell_type": "code",
   "execution_count": 19,
   "id": "b78440b8-3b59-4f5b-9d0f-e55c4125ecae",
   "metadata": {},
   "outputs": [],
   "source": [
    "# Step 4: Download ZIP\n",
    "try:\n",
    "    zip_response = requests.get(zip_url)\n",
    "    zip_response.raise_for_status()\n",
    "except requests.exceptions.RequestException as e:\n",
    "    print(f\" Error downloading ZIP: {e}\")\n",
    "    exit()"
   ]
  },
  {
   "cell_type": "code",
   "execution_count": 20,
   "id": "ae31960e-7b99-487c-9770-72c8ef5688f6",
   "metadata": {},
   "outputs": [],
   "source": [
    "# Step 5: Prepare folders\n",
    "raw_folder = r\"C:\\Users\\kanmani\\Desktop\\AutoStack360\\Data\\Raw\"\n",
    "meta_folder = r\"C:\\Users\\kanmani\\Desktop\\AutoStack360\\Data\\Metadata\"\n",
    "os.makedirs(raw_folder, exist_ok=True)\n",
    "os.makedirs(meta_folder, exist_ok=True)"
   ]
  },
  {
   "cell_type": "code",
   "execution_count": 21,
   "id": "aae82ffb-7b0c-43e4-ac75-cc0338935a81",
   "metadata": {},
   "outputs": [
    {
     "name": "stdout",
     "output_type": "stream",
     "text": [
      "Files in ZIP: ['2024 Developer Survey.pdf', 'survey_results_public.csv', 'survey_results_schema.csv']\n",
      "Extracted: C:\\Users\\kanmani\\Desktop\\AutoStack360\\Data\\Metadata\\2024_2024 Developer Survey.pdf\n",
      "Extracted: C:\\Users\\kanmani\\Desktop\\AutoStack360\\Data\\Raw\\2024_survey_results_public.csv\n",
      "Extracted: C:\\Users\\kanmani\\Desktop\\AutoStack360\\Data\\Metadata\\2024_survey_results_schema.csv\n"
     ]
    }
   ],
   "source": [
    "# Step 6: Extract and organize\n",
    "try:\n",
    "    with zipfile.ZipFile(BytesIO(zip_response.content)) as z:\n",
    "        print(\"Files in ZIP:\", z.namelist())\n",
    "        for file_name in z.namelist():\n",
    "            if \"survey_results_public.csv\" in file_name:\n",
    "                save_path = os.path.join(raw_folder, f\"{year}_survey_results_public.csv\")\n",
    "            else:\n",
    "                save_path = os.path.join(meta_folder, f\"{year}_\" + os.path.basename(file_name))\n",
    "\n",
    "            with z.open(file_name) as src, open(save_path, \"wb\") as dest:\n",
    "                dest.write(src.read())\n",
    "            print(f\"Extracted: {save_path}\")\n",
    "\n",
    "except Exception as e:\n",
    "    print(f\"Error extracting ZIP: {e}\")"
   ]
  }
 ],
 "metadata": {
  "kernelspec": {
   "display_name": "Python 3 (ipykernel)",
   "language": "python",
   "name": "python3"
  },
  "language_info": {
   "codemirror_mode": {
    "name": "ipython",
    "version": 3
   },
   "file_extension": ".py",
   "mimetype": "text/x-python",
   "name": "python",
   "nbconvert_exporter": "python",
   "pygments_lexer": "ipython3",
   "version": "3.12.3"
  }
 },
 "nbformat": 4,
 "nbformat_minor": 5
}
