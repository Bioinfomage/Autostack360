{
 "cells": [
  {
   "cell_type": "code",
   "execution_count": 1,
   "id": "8cc4b35e-d874-40b3-9275-fb0198213134",
   "metadata": {},
   "outputs": [
    {
     "name": "stdout",
     "output_type": "stream",
     "text": [
      "RMSE: 0.585\n",
      "R² Score: 0.576\n",
      "✅ File saved successfully at: C:\\Users\\kanmani\\Desktop\\AutoStack360\\Outputs\\salary_predictions_random_forest.csv\n"
     ]
    }
   ],
   "source": [
    "import pandas as pd\n",
    "import numpy as np\n",
    "from sklearn.ensemble import RandomForestRegressor\n",
    "from sklearn.model_selection import train_test_split\n",
    "from sklearn.metrics import mean_squared_error, r2_score\n",
    "import joblib\n",
    "\n",
    "# Load preprocessed data\n",
    "df = pd.read_csv(\"C:/Users/kanmani/Desktop/AutoStack360/Data/Cleaned/survey_with_language_nd_Edlevel_binaries.csv\")\n",
    "\n",
    "\n",
    "# Select features (update this list if needed)\n",
    "features = [col for col in df.columns if (\n",
    "    col.startswith('EdLevel_') or\n",
    "    col.startswith('Country_Encoded') or\n",
    "    col.startswith('YearsCodePro') or\n",
    "    col in ['YearsCodePro', 'Country_Encoded']\n",
    "    or col in ['Python', 'JavaScript', 'Java', 'C#', 'C++', 'Go', 'Rust', 'SQL']  # include most common language binaries\n",
    ")]\n",
    "\n",
    "X = df[features].dropna()\n",
    "y = df.loc[X.index, 'LogSalary']\n",
    "\n",
    "# Train/test split\n",
    "X_train, X_test, y_train, y_test = train_test_split(X, y, test_size=0.2, random_state=42)\n",
    "\n",
    "# Train Random Forest\n",
    "model = RandomForestRegressor(n_estimators=50, random_state=42, n_jobs=1)\n",
    "model.fit(X_train, y_train)\n",
    "\n",
    "# Evaluate\n",
    "y_pred = model.predict(X_test)\n",
    "rmse = np.sqrt(mean_squared_error(y_test, y_pred))\n",
    "r2 = r2_score(y_test, y_pred)\n",
    "print(f\"RMSE: {rmse:.3f}\")\n",
    "print(f\"R² Score: {r2:.3f}\")\n",
    "\n",
    "# Save model\n",
    "joblib.dump(model, \"reduced_random_forest_salary_model.pkl\")\n",
    "\n",
    "# Save predictions\n",
    "df_preds = df.loc[X_test.index, ['LogSalary']].copy()\n",
    "df_preds['Predicted_LogSalary'] = y_pred\n",
    "# Save directly to the target path\n",
    "output_path = r\"C:\\Users\\kanmani\\Desktop\\AutoStack360\\Outputs\\salary_predictions_random_forest.csv\"\n",
    "df_preds.to_csv(output_path, index=False)\n",
    "\n",
    "print(\"✅ File saved successfully at:\", output_path)\n"
   ]
  }
 ],
 "metadata": {
  "kernelspec": {
   "display_name": "Python 3 (ipykernel)",
   "language": "python",
   "name": "python3"
  },
  "language_info": {
   "codemirror_mode": {
    "name": "ipython",
    "version": 3
   },
   "file_extension": ".py",
   "mimetype": "text/x-python",
   "name": "python",
   "nbconvert_exporter": "python",
   "pygments_lexer": "ipython3",
   "version": "3.12.3"
  }
 },
 "nbformat": 4,
 "nbformat_minor": 5
}
